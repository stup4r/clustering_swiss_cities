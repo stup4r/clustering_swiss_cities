{
 "cells": [
  {
   "cell_type": "markdown",
   "metadata": {},
   "source": [
    "# Supplementary code"
   ]
  },
  {
   "cell_type": "markdown",
   "metadata": {},
   "source": [
    "Here are collected most of the trial cells and the code used to generate figures."
   ]
  },
  {
   "cell_type": "code",
   "execution_count": 2,
   "metadata": {},
   "outputs": [
    {
     "data": {
      "text/html": [
       "<div>\n",
       "<style scoped>\n",
       "    .dataframe tbody tr th:only-of-type {\n",
       "        vertical-align: middle;\n",
       "    }\n",
       "\n",
       "    .dataframe tbody tr th {\n",
       "        vertical-align: top;\n",
       "    }\n",
       "\n",
       "    .dataframe thead th {\n",
       "        text-align: right;\n",
       "    }\n",
       "</style>\n",
       "<table border=\"1\" class=\"dataframe\">\n",
       "  <thead>\n",
       "    <tr style=\"text-align: right;\">\n",
       "      <th></th>\n",
       "      <th>Neighborhood</th>\n",
       "      <th>1st Most Common Venue</th>\n",
       "      <th>2nd Most Common Venue</th>\n",
       "      <th>3rd Most Common Venue</th>\n",
       "      <th>4th Most Common Venue</th>\n",
       "      <th>5th Most Common Venue</th>\n",
       "      <th>6th Most Common Venue</th>\n",
       "      <th>7th Most Common Venue</th>\n",
       "      <th>8th Most Common Venue</th>\n",
       "      <th>9th Most Common Venue</th>\n",
       "      <th>10th Most Common Venue</th>\n",
       "      <th>Cluster Labels</th>\n",
       "      <th>Latitude</th>\n",
       "      <th>Longitude</th>\n",
       "    </tr>\n",
       "  </thead>\n",
       "  <tbody>\n",
       "    <tr>\n",
       "      <th>0</th>\n",
       "      <td>1000, Lausanne</td>\n",
       "      <td>Swiss Restaurant</td>\n",
       "      <td>French Restaurant</td>\n",
       "      <td>IT Services</td>\n",
       "      <td>Pizza Place</td>\n",
       "      <td>Athletics &amp; Sports</td>\n",
       "      <td>Event Space</td>\n",
       "      <td>Donut Shop</td>\n",
       "      <td>Eastern European Restaurant</td>\n",
       "      <td>Electronics Store</td>\n",
       "      <td>English Restaurant</td>\n",
       "      <td>2</td>\n",
       "      <td>46.5534</td>\n",
       "      <td>6.6971</td>\n",
       "    </tr>\n",
       "    <tr>\n",
       "      <th>1</th>\n",
       "      <td>1001, Lausanne</td>\n",
       "      <td>Bar</td>\n",
       "      <td>French Restaurant</td>\n",
       "      <td>Burger Joint</td>\n",
       "      <td>Japanese Restaurant</td>\n",
       "      <td>Italian Restaurant</td>\n",
       "      <td>Plaza</td>\n",
       "      <td>Chinese Restaurant</td>\n",
       "      <td>Restaurant</td>\n",
       "      <td>Pizza Place</td>\n",
       "      <td>Wine Bar</td>\n",
       "      <td>6</td>\n",
       "      <td>46.5224</td>\n",
       "      <td>6.6303</td>\n",
       "    </tr>\n",
       "    <tr>\n",
       "      <th>2</th>\n",
       "      <td>1002, Lausanne</td>\n",
       "      <td>Bar</td>\n",
       "      <td>Italian Restaurant</td>\n",
       "      <td>Thai Restaurant</td>\n",
       "      <td>Park</td>\n",
       "      <td>Sandwich Place</td>\n",
       "      <td>Gastropub</td>\n",
       "      <td>Tea Room</td>\n",
       "      <td>Boutique</td>\n",
       "      <td>Coffee Shop</td>\n",
       "      <td>Pool</td>\n",
       "      <td>6</td>\n",
       "      <td>46.5195</td>\n",
       "      <td>6.6322</td>\n",
       "    </tr>\n",
       "    <tr>\n",
       "      <th>3</th>\n",
       "      <td>1004, Lausanne</td>\n",
       "      <td>Grocery Store</td>\n",
       "      <td>Supermarket</td>\n",
       "      <td>Bus Stop</td>\n",
       "      <td>Bar</td>\n",
       "      <td>Italian Restaurant</td>\n",
       "      <td>Gas Station</td>\n",
       "      <td>Theater</td>\n",
       "      <td>Sushi Restaurant</td>\n",
       "      <td>Chinese Restaurant</td>\n",
       "      <td>Steakhouse</td>\n",
       "      <td>6</td>\n",
       "      <td>46.5285</td>\n",
       "      <td>6.6187</td>\n",
       "    </tr>\n",
       "    <tr>\n",
       "      <th>4</th>\n",
       "      <td>1005, Lausanne</td>\n",
       "      <td>Italian Restaurant</td>\n",
       "      <td>Supermarket</td>\n",
       "      <td>Hotel</td>\n",
       "      <td>Park</td>\n",
       "      <td>Coffee Shop</td>\n",
       "      <td>Café</td>\n",
       "      <td>Burger Joint</td>\n",
       "      <td>English Restaurant</td>\n",
       "      <td>Middle Eastern Restaurant</td>\n",
       "      <td>Fast Food Restaurant</td>\n",
       "      <td>6</td>\n",
       "      <td>46.5199</td>\n",
       "      <td>6.6425</td>\n",
       "    </tr>\n",
       "  </tbody>\n",
       "</table>\n",
       "</div>"
      ],
      "text/plain": [
       "     Neighborhood 1st Most Common Venue 2nd Most Common Venue  \\\n",
       "0  1000, Lausanne      Swiss Restaurant     French Restaurant   \n",
       "1  1001, Lausanne                   Bar     French Restaurant   \n",
       "2  1002, Lausanne                   Bar    Italian Restaurant   \n",
       "3  1004, Lausanne         Grocery Store           Supermarket   \n",
       "4  1005, Lausanne    Italian Restaurant           Supermarket   \n",
       "\n",
       "  3rd Most Common Venue 4th Most Common Venue 5th Most Common Venue  \\\n",
       "0           IT Services           Pizza Place    Athletics & Sports   \n",
       "1          Burger Joint   Japanese Restaurant    Italian Restaurant   \n",
       "2       Thai Restaurant                  Park        Sandwich Place   \n",
       "3              Bus Stop                   Bar    Italian Restaurant   \n",
       "4                 Hotel                  Park           Coffee Shop   \n",
       "\n",
       "  6th Most Common Venue 7th Most Common Venue        8th Most Common Venue  \\\n",
       "0           Event Space            Donut Shop  Eastern European Restaurant   \n",
       "1                 Plaza    Chinese Restaurant                   Restaurant   \n",
       "2             Gastropub              Tea Room                     Boutique   \n",
       "3           Gas Station               Theater             Sushi Restaurant   \n",
       "4                  Café          Burger Joint           English Restaurant   \n",
       "\n",
       "       9th Most Common Venue 10th Most Common Venue  Cluster Labels  Latitude  \\\n",
       "0          Electronics Store     English Restaurant               2   46.5534   \n",
       "1                Pizza Place               Wine Bar               6   46.5224   \n",
       "2                Coffee Shop                   Pool               6   46.5195   \n",
       "3         Chinese Restaurant             Steakhouse               6   46.5285   \n",
       "4  Middle Eastern Restaurant   Fast Food Restaurant               6   46.5199   \n",
       "\n",
       "   Longitude  \n",
       "0     6.6971  \n",
       "1     6.6303  \n",
       "2     6.6322  \n",
       "3     6.6187  \n",
       "4     6.6425  "
      ]
     },
     "execution_count": 2,
     "metadata": {},
     "output_type": "execute_result"
    }
   ],
   "source": [
    "import pandas as pd\n",
    "import numpy as np\n",
    "import folium\n",
    "import geocoder\n",
    "\n",
    "neighborhoods_venues_sorted = pd.read_csv('Data/neighborhoods_venues_sorted.csv')\n",
    "neighborhoods_venues_sorted.drop('Unnamed: 0', axis=1, inplace=True)\n",
    "neighborhoods_venues_sorted.head(5)"
   ]
  },
  {
   "cell_type": "code",
   "execution_count": 42,
   "metadata": {},
   "outputs": [],
   "source": [
    "cities = ['Z\\xfcrich', 'Gen\\xE8ve', 'Basel', 'Lausanne', 'Bern', 'Winterthur', 'Luzern', 'St. Gallen', 'Lugano', 'Biel/Bienne']"
   ]
  },
  {
   "cell_type": "code",
   "execution_count": null,
   "metadata": {},
   "outputs": [],
   "source": [
    "for i in cities:\n",
    "    lat_lng_coords = None\n",
    "    while(lat_lng_coords is None):\n",
    "        g = geocoder.google(i)\n",
    "        lat_lng_coords = g.latlng\n",
    "\n",
    "    # create map\n",
    "    map_clusters = folium.Map(location=[lat_lng_coords[0], lat_lng_coords[1]], zoom_start=12, tiles='CartoDB positron')\n",
    "\n",
    "    manual_c = ['#FFE318','#57C2EA', '#13b79c','#000000', '#faf200','#9F3EA0', '#265dca', '#CF3838','#A1A9AD','#4C8949','#7718FF']\n",
    "\n",
    "    # add markers to the map\n",
    "    df_ct = neighborhoods_venues_sorted[neighborhoods_venues_sorted['Neighborhood'].str.contains(i)]\n",
    "    markers_colors = []\n",
    "    for lat, lon, poi, cluster in zip(df_ct['Latitude'], df_ct['Longitude'], df_ct['Neighborhood'], df_ct['Cluster Labels']):\n",
    "        label = folium.Popup(str(poi) + ' Cluster ' + str(cluster), parse_html=True)\n",
    "        folium.CircleMarker(\n",
    "            [lat, lon],\n",
    "            radius=5,\n",
    "            popup=label,\n",
    "            color=manual_c[cluster-1],\n",
    "            fill=True,\n",
    "            fill_color=manual_c[cluster-1],\n",
    "            fill_opacity=1).add_to(map_clusters)\n",
    "\n",
    "    map_clusters.save('Outputs/'+i)"
   ]
  },
  {
   "cell_type": "code",
   "execution_count": 25,
   "metadata": {},
   "outputs": [],
   "source": [
    "ch_restaurants = pd.read_csv('Data/ch_restaurants.csv')"
   ]
  },
  {
   "cell_type": "code",
   "execution_count": 26,
   "metadata": {},
   "outputs": [
    {
     "data": {
      "text/plain": [
       "(420, 12)"
      ]
     },
     "execution_count": 26,
     "metadata": {},
     "output_type": "execute_result"
    }
   ],
   "source": [
    "ch_restaurants_subset = ch_restaurants[ch_restaurants['Rating'].notnull()].copy()\n",
    "ch_restaurants_subset.shape"
   ]
  },
  {
   "cell_type": "code",
   "execution_count": 27,
   "metadata": {},
   "outputs": [
    {
     "data": {
      "text/html": [
       "<div>\n",
       "<style scoped>\n",
       "    .dataframe tbody tr th:only-of-type {\n",
       "        vertical-align: middle;\n",
       "    }\n",
       "\n",
       "    .dataframe tbody tr th {\n",
       "        vertical-align: top;\n",
       "    }\n",
       "\n",
       "    .dataframe thead th {\n",
       "        text-align: right;\n",
       "    }\n",
       "</style>\n",
       "<table border=\"1\" class=\"dataframe\">\n",
       "  <thead>\n",
       "    <tr style=\"text-align: right;\">\n",
       "      <th></th>\n",
       "      <th>% of data has NaN</th>\n",
       "    </tr>\n",
       "  </thead>\n",
       "  <tbody>\n",
       "    <tr>\n",
       "      <th>Unnamed: 0</th>\n",
       "      <td>0</td>\n",
       "    </tr>\n",
       "    <tr>\n",
       "      <th>Neighborhood</th>\n",
       "      <td>0</td>\n",
       "    </tr>\n",
       "    <tr>\n",
       "      <th>Latitude</th>\n",
       "      <td>0</td>\n",
       "    </tr>\n",
       "    <tr>\n",
       "      <th>Longitude</th>\n",
       "      <td>0</td>\n",
       "    </tr>\n",
       "    <tr>\n",
       "      <th>Venue</th>\n",
       "      <td>0</td>\n",
       "    </tr>\n",
       "    <tr>\n",
       "      <th>Venue Category</th>\n",
       "      <td>0</td>\n",
       "    </tr>\n",
       "    <tr>\n",
       "      <th>Venue id</th>\n",
       "      <td>0</td>\n",
       "    </tr>\n",
       "    <tr>\n",
       "      <th>Venue Latitude</th>\n",
       "      <td>0</td>\n",
       "    </tr>\n",
       "    <tr>\n",
       "      <th>Venue Longitude</th>\n",
       "      <td>0</td>\n",
       "    </tr>\n",
       "    <tr>\n",
       "      <th>Rating</th>\n",
       "      <td>0</td>\n",
       "    </tr>\n",
       "    <tr>\n",
       "      <th>Tier</th>\n",
       "      <td>0</td>\n",
       "    </tr>\n",
       "    <tr>\n",
       "      <th>Likes</th>\n",
       "      <td>0</td>\n",
       "    </tr>\n",
       "  </tbody>\n",
       "</table>\n",
       "</div>"
      ],
      "text/plain": [
       "                 % of data has NaN\n",
       "Unnamed: 0                       0\n",
       "Neighborhood                     0\n",
       "Latitude                         0\n",
       "Longitude                        0\n",
       "Venue                            0\n",
       "Venue Category                   0\n",
       "Venue id                         0\n",
       "Venue Latitude                   0\n",
       "Venue Longitude                  0\n",
       "Rating                           0\n",
       "Tier                             0\n",
       "Likes                            0"
      ]
     },
     "execution_count": 27,
     "metadata": {},
     "output_type": "execute_result"
    }
   ],
   "source": [
    "ch_restaurants_subset['Tier'].fillna(2, inplace=True)\n",
    "ch_restaurants_subset.isnull().sum().to_frame('% of data has NaN').sort_values(by='% of data has NaN', ascending=False)"
   ]
  },
  {
   "cell_type": "code",
   "execution_count": 8,
   "metadata": {},
   "outputs": [
    {
     "data": {
      "image/png": "[encoded data removed]",
      "text/plain": [
       "<Figure size 432x288 with 1 Axes>"
      ]
     },
     "metadata": {},
     "output_type": "display_data"
    }
   ],
   "source": [
    "ch_model = ch_restaurants_subset.reset_index()[['Rating', 'Tier', 'Likes']]\n",
    "%matplotlib inline\n",
    "ch_model.plot(kind='scatter', x='Tier', y='Rating');"
   ]
  },
  {
   "cell_type": "code",
   "execution_count": 9,
   "metadata": {},
   "outputs": [
    {
     "data": {
      "text/html": [
       "<div>\n",
       "<style scoped>\n",
       "    .dataframe tbody tr th:only-of-type {\n",
       "        vertical-align: middle;\n",
       "    }\n",
       "\n",
       "    .dataframe tbody tr th {\n",
       "        vertical-align: top;\n",
       "    }\n",
       "\n",
       "    .dataframe thead th {\n",
       "        text-align: right;\n",
       "    }\n",
       "</style>\n",
       "<table border=\"1\" class=\"dataframe\">\n",
       "  <thead>\n",
       "    <tr style=\"text-align: right;\">\n",
       "      <th></th>\n",
       "      <th>Zürich</th>\n",
       "      <th>Genève</th>\n",
       "      <th>Basel</th>\n",
       "      <th>Lausanne</th>\n",
       "      <th>Bern</th>\n",
       "      <th>Winterthur</th>\n",
       "      <th>Luzern</th>\n",
       "      <th>St. Gallen</th>\n",
       "      <th>Lugano</th>\n",
       "      <th>Biel/Bienne</th>\n",
       "    </tr>\n",
       "  </thead>\n",
       "  <tbody>\n",
       "    <tr>\n",
       "      <th>0</th>\n",
       "      <td>47.376887</td>\n",
       "      <td>46.204391</td>\n",
       "      <td>47.559599</td>\n",
       "      <td>46.519653</td>\n",
       "      <td>46.947974</td>\n",
       "      <td>47.498820</td>\n",
       "      <td>47.050168</td>\n",
       "      <td>47.424482</td>\n",
       "      <td>46.003678</td>\n",
       "      <td>47.136778</td>\n",
       "    </tr>\n",
       "    <tr>\n",
       "      <th>1</th>\n",
       "      <td>8.541694</td>\n",
       "      <td>6.143158</td>\n",
       "      <td>7.588576</td>\n",
       "      <td>6.632273</td>\n",
       "      <td>7.447447</td>\n",
       "      <td>8.723689</td>\n",
       "      <td>8.309307</td>\n",
       "      <td>9.376717</td>\n",
       "      <td>8.951052</td>\n",
       "      <td>7.246791</td>\n",
       "    </tr>\n",
       "  </tbody>\n",
       "</table>\n",
       "</div>"
      ],
      "text/plain": [
       "      Zürich     Genève      Basel   Lausanne       Bern  Winterthur  \\\n",
       "0  47.376887  46.204391  47.559599  46.519653  46.947974   47.498820   \n",
       "1   8.541694   6.143158   7.588576   6.632273   7.447447    8.723689   \n",
       "\n",
       "      Luzern  St. Gallen     Lugano  Biel/Bienne  \n",
       "0  47.050168   47.424482  46.003678    47.136778  \n",
       "1   8.309307    9.376717   8.951052     7.246791  "
      ]
     },
     "execution_count": 9,
     "metadata": {},
     "output_type": "execute_result"
    }
   ],
   "source": [
    "ch_big10_cities = ['Z\\xfcrich', 'Gen\\xE8ve', 'Basel', 'Lausanne', 'Bern', 'Winterthur', 'Luzern', 'St. Gallen', 'Lugano', 'Biel/Bienne']\n",
    "\n",
    "city_centers = {}\n",
    "\n",
    "for i in ch_big10_cities:\n",
    "    \n",
    "    lat_lng_coords = None\n",
    "    while(lat_lng_coords is None):\n",
    "        g = geocoder.google(i + ' Switzerland')\n",
    "        lat_lng_coords = g.latlng\n",
    "    city_centers[i] = [lat_lng_coords[0], lat_lng_coords[1]]    \n",
    "\n",
    "pd.DataFrame.from_dict(city_centers)"
   ]
  },
  {
   "cell_type": "code",
   "execution_count": 10,
   "metadata": {},
   "outputs": [],
   "source": [
    "def get_center_lat(row):\n",
    "    return city_centers[row[6:]][0]\n",
    "def get_center_lng(row):\n",
    "    return city_centers[row[6:]][1]\n",
    "\n",
    "ch_restaurants_subset['City Center Latitude'] = ch_restaurants_subset['Neighborhood'].apply(get_center_lat)\n",
    "ch_restaurants_subset['City Center Longitude'] = ch_restaurants_subset['Neighborhood'].apply(get_center_lng)"
   ]
  },
  {
   "cell_type": "code",
   "execution_count": 11,
   "metadata": {},
   "outputs": [],
   "source": [
    "def get_distance(x1,y1,x2,y2):\n",
    "    return geocoder.distance([x1,y1], [x2,y2])"
   ]
  },
  {
   "cell_type": "code",
   "execution_count": 12,
   "metadata": {},
   "outputs": [],
   "source": [
    "ch_restaurants_subset['Distance'] = np.vectorize(get_distance)(ch_restaurants_subset['Venue Latitude'], ch_restaurants_subset['Venue Longitude'],ch_restaurants_subset['City Center Latitude'],ch_restaurants_subset['City Center Longitude'])"
   ]
  },
  {
   "cell_type": "code",
   "execution_count": 14,
   "metadata": {},
   "outputs": [
    {
     "data": {
      "image/png": "[encoded data removed]",
      "text/plain": [
       "<Figure size 432x288 with 1 Axes>"
      ]
     },
     "metadata": {},
     "output_type": "display_data"
    }
   ],
   "source": [
    "ch_restaurants_subset.plot(kind='scatter', x='Distance', y='Rating');"
   ]
  },
  {
   "cell_type": "code",
   "execution_count": 15,
   "metadata": {},
   "outputs": [],
   "source": [
    "x_data = ch_model['Likes']\n",
    "y_data = ch_model['Rating']"
   ]
  },
  {
   "cell_type": "code",
   "execution_count": 16,
   "metadata": {},
   "outputs": [
    {
     "name": "stdout",
     "output_type": "stream",
     "text": [
      "number of test samples : 63\n",
      "number of training samples: 357\n"
     ]
    }
   ],
   "source": [
    "from sklearn.model_selection import train_test_split\n",
    "\n",
    "\n",
    "x_train, x_test, y_train, y_test = train_test_split(x_data, y_data, test_size=0.15, random_state=1)\n",
    "\n",
    "\n",
    "print(\"number of test samples :\", x_test.shape[0])\n",
    "print(\"number of training samples:\",x_train.shape[0])\n"
   ]
  },
  {
   "cell_type": "code",
   "execution_count": 17,
   "metadata": {},
   "outputs": [],
   "source": [
    "x_test = x_test[1:]\n",
    "y_test = y_test[1:]"
   ]
  },
  {
   "cell_type": "code",
   "execution_count": 18,
   "metadata": {},
   "outputs": [
    {
     "name": "stdout",
     "output_type": "stream",
     "text": [
      "[0.11336578 4.02425551 8.18411096]\n"
     ]
    }
   ],
   "source": [
    "from scipy.optimize import curve_fit\n",
    "\n",
    "x = x_train.values\n",
    "y = y_train.values\n",
    "\n",
    "def test_func(x, a, b, c):\n",
    "    return -0.5*(((1-c)/np.pi)*np.arctan(a*(x-b))) + c/1.3\n",
    "    \n",
    "init_vals = [1, 8, 8.9]\n",
    "params, covar = curve_fit(test_func, x, y, method='dogbox', p0=init_vals, bounds=([0., 0.,7.],[1., 15.,10.]))\n",
    "print(params)"
   ]
  },
  {
   "cell_type": "code",
   "execution_count": 20,
   "metadata": {},
   "outputs": [
    {
     "data": {
      "image/png": "[encoded data removed]",
      "text/plain": [
       "<Figure size 576x432 with 1 Axes>"
      ]
     },
     "metadata": {},
     "output_type": "display_data"
    }
   ],
   "source": [
    "import matplotlib.pyplot as plt\n",
    "plt.figure(figsize=(8, 6))\n",
    "plt.scatter(x, y, label='Data')\n",
    "plt.scatter(x, test_func(x, params[0], params[1], params[2]), label='Fitted function')\n",
    "plt.legend(loc='best')\n",
    "plt.show()"
   ]
  },
  {
   "cell_type": "code",
   "execution_count": 21,
   "metadata": {},
   "outputs": [
    {
     "data": {
      "text/plain": [
       "0.2413835423806151"
      ]
     },
     "execution_count": 21,
     "metadata": {},
     "output_type": "execute_result"
    },
    {
     "data": {
      "image/png": "[encoded data removed]",
      "text/plain": [
       "<Figure size 432x288 with 1 Axes>"
      ]
     },
     "metadata": {},
     "output_type": "display_data"
    }
   ],
   "source": [
    "y_true = y_test.values\n",
    "y_hat = test_func(x_test.values, params[0], params[1], params[2])\n",
    "plt.scatter(x_test.values, y_true)\n",
    "plt.scatter(x_test.values, y_hat)\n",
    "(1 - ((y_true - y_hat) ** 2).sum()/((y_true - y_true.mean()) ** 2).sum())"
   ]
  },
  {
   "cell_type": "code",
   "execution_count": 22,
   "metadata": {},
   "outputs": [],
   "source": [
    "def DistributionPlot(RedFunction,BlueFunction,RedName,BlueName,Title ):\n",
    "    width = 12\n",
    "    height = 10\n",
    "    plt.figure(figsize=(width, height))\n",
    "\n",
    "    ax1 = sns.distplot(RedFunction, hist=False, color=\"r\", label=RedName)\n",
    "    ax2 = sns.distplot(BlueFunction, hist=False, color=\"b\", label=BlueName, ax=ax1)\n",
    "\n",
    "    plt.title(Title)\n",
    "\n",
    "    plt.show()\n",
    "    plt.close()"
   ]
  },
  {
   "cell_type": "code",
   "execution_count": 24,
   "metadata": {},
   "outputs": [
    {
     "data": {
      "image/png": "[encoded data removed]",
      "text/plain": [
       "<Figure size 864x720 with 1 Axes>"
      ]
     },
     "metadata": {},
     "output_type": "display_data"
    }
   ],
   "source": [
    "import seaborn as sns\n",
    "DistributionPlot(y_true, y_hat, 'Real data', 'Predicted data', 'Model prediction')"
   ]
  },
  {
   "cell_type": "code",
   "execution_count": 29,
   "metadata": {},
   "outputs": [
    {
     "data": {
      "text/html": [
       "<div>\n",
       "<style scoped>\n",
       "    .dataframe tbody tr th:only-of-type {\n",
       "        vertical-align: middle;\n",
       "    }\n",
       "\n",
       "    .dataframe tbody tr th {\n",
       "        vertical-align: top;\n",
       "    }\n",
       "\n",
       "    .dataframe thead th {\n",
       "        text-align: right;\n",
       "    }\n",
       "</style>\n",
       "<table border=\"1\" class=\"dataframe\">\n",
       "  <thead>\n",
       "    <tr style=\"text-align: right;\">\n",
       "      <th></th>\n",
       "      <th>Unnamed: 0</th>\n",
       "      <th>Latitude</th>\n",
       "      <th>Longitude</th>\n",
       "      <th>Venue Latitude</th>\n",
       "      <th>Venue Longitude</th>\n",
       "      <th>Rating</th>\n",
       "      <th>Tier</th>\n",
       "      <th>Likes</th>\n",
       "    </tr>\n",
       "  </thead>\n",
       "  <tbody>\n",
       "    <tr>\n",
       "      <th>count</th>\n",
       "      <td>420.000000</td>\n",
       "      <td>420.000000</td>\n",
       "      <td>420.000000</td>\n",
       "      <td>420.000000</td>\n",
       "      <td>420.000000</td>\n",
       "      <td>420.000000</td>\n",
       "      <td>420.000000</td>\n",
       "      <td>420.000000</td>\n",
       "    </tr>\n",
       "    <tr>\n",
       "      <th>mean</th>\n",
       "      <td>24.452381</td>\n",
       "      <td>47.130139</td>\n",
       "      <td>7.888432</td>\n",
       "      <td>47.130797</td>\n",
       "      <td>7.887895</td>\n",
       "      <td>7.158571</td>\n",
       "      <td>2.207143</td>\n",
       "      <td>29.159524</td>\n",
       "    </tr>\n",
       "    <tr>\n",
       "      <th>std</th>\n",
       "      <td>15.091451</td>\n",
       "      <td>0.436483</td>\n",
       "      <td>0.894854</td>\n",
       "      <td>0.436949</td>\n",
       "      <td>0.895231</td>\n",
       "      <td>0.900754</td>\n",
       "      <td>0.653572</td>\n",
       "      <td>72.852850</td>\n",
       "    </tr>\n",
       "    <tr>\n",
       "      <th>min</th>\n",
       "      <td>0.000000</td>\n",
       "      <td>45.970100</td>\n",
       "      <td>6.102800</td>\n",
       "      <td>45.972890</td>\n",
       "      <td>6.094469</td>\n",
       "      <td>5.000000</td>\n",
       "      <td>1.000000</td>\n",
       "      <td>0.000000</td>\n",
       "    </tr>\n",
       "    <tr>\n",
       "      <th>25%</th>\n",
       "      <td>10.750000</td>\n",
       "      <td>46.947000</td>\n",
       "      <td>7.440400</td>\n",
       "      <td>46.948575</td>\n",
       "      <td>7.444179</td>\n",
       "      <td>6.500000</td>\n",
       "      <td>2.000000</td>\n",
       "      <td>7.000000</td>\n",
       "    </tr>\n",
       "    <tr>\n",
       "      <th>50%</th>\n",
       "      <td>24.000000</td>\n",
       "      <td>47.366700</td>\n",
       "      <td>8.306000</td>\n",
       "      <td>47.368647</td>\n",
       "      <td>8.306948</td>\n",
       "      <td>7.200000</td>\n",
       "      <td>2.000000</td>\n",
       "      <td>12.000000</td>\n",
       "    </tr>\n",
       "    <tr>\n",
       "      <th>75%</th>\n",
       "      <td>38.000000</td>\n",
       "      <td>47.399000</td>\n",
       "      <td>8.543200</td>\n",
       "      <td>47.402055</td>\n",
       "      <td>8.539775</td>\n",
       "      <td>7.800000</td>\n",
       "      <td>3.000000</td>\n",
       "      <td>27.000000</td>\n",
       "    </tr>\n",
       "    <tr>\n",
       "      <th>max</th>\n",
       "      <td>49.000000</td>\n",
       "      <td>47.576100</td>\n",
       "      <td>9.414100</td>\n",
       "      <td>47.574600</td>\n",
       "      <td>9.412833</td>\n",
       "      <td>9.200000</td>\n",
       "      <td>4.000000</td>\n",
       "      <td>943.000000</td>\n",
       "    </tr>\n",
       "  </tbody>\n",
       "</table>\n",
       "</div>"
      ],
      "text/plain": [
       "       Unnamed: 0    Latitude   Longitude  Venue Latitude  Venue Longitude  \\\n",
       "count  420.000000  420.000000  420.000000      420.000000       420.000000   \n",
       "mean    24.452381   47.130139    7.888432       47.130797         7.887895   \n",
       "std     15.091451    0.436483    0.894854        0.436949         0.895231   \n",
       "min      0.000000   45.970100    6.102800       45.972890         6.094469   \n",
       "25%     10.750000   46.947000    7.440400       46.948575         7.444179   \n",
       "50%     24.000000   47.366700    8.306000       47.368647         8.306948   \n",
       "75%     38.000000   47.399000    8.543200       47.402055         8.539775   \n",
       "max     49.000000   47.576100    9.414100       47.574600         9.412833   \n",
       "\n",
       "           Rating        Tier       Likes  \n",
       "count  420.000000  420.000000  420.000000  \n",
       "mean     7.158571    2.207143   29.159524  \n",
       "std      0.900754    0.653572   72.852850  \n",
       "min      5.000000    1.000000    0.000000  \n",
       "25%      6.500000    2.000000    7.000000  \n",
       "50%      7.200000    2.000000   12.000000  \n",
       "75%      7.800000    3.000000   27.000000  \n",
       "max      9.200000    4.000000  943.000000  "
      ]
     },
     "execution_count": 29,
     "metadata": {},
     "output_type": "execute_result"
    }
   ],
   "source": [
    "ch_restaurants_subset.describe()"
   ]
  },
  {
   "cell_type": "code",
   "execution_count": 47,
   "metadata": {},
   "outputs": [],
   "source": [
    "cities = ['Z\\xfcrich', 'Gen\\xE8ve', 'Basel', 'Lausanne', 'Bern', 'Winterthur', 'Luzern', 'St. Gallen', 'Lugano', 'Biel']\n",
    "\n",
    "df = ch_restaurants_subset[['Neighborhood','Venue Latitude', 'Venue Longitude','Venue', 'Likes']]\n",
    "import geocoder\n",
    "\n",
    "for i in cities:\n",
    "    \n",
    "    lat_lng_coords = None\n",
    "    while(lat_lng_coords is None):\n",
    "        g = geocoder.google(i+', Switzerland')\n",
    "        lat_lng_coords = g.latlng\n",
    "\n",
    "    map_ch = folium.Map(location=[lat_lng_coords[0], lat_lng_coords[1]], zoom_start=13, tiles='CartoDB positron')\n",
    "    df_ct = df[df['Neighborhood'].str.contains(i)]\n",
    "    for lat, lng, v, l in zip(df_ct['Venue Latitude'], df_ct['Venue Longitude'], df_ct['Venue'], df_ct['Likes']):\n",
    "        label = '{}: {} likes'.format(v, int(l))\n",
    "        label = folium.Popup(label, parse_html=True)\n",
    "\n",
    "        if l < 5:\n",
    "            l = 5\n",
    "\n",
    "        folium.CircleMarker(\n",
    "            [lat, lng],\n",
    "            radius=np.sqrt(l/np.pi),\n",
    "            popup=label,\n",
    "            color='#9F3EA0',\n",
    "            fill=True,\n",
    "            fill_color='#9F3EA0',\n",
    "            fill_opacity=1).add_to(map_ch)  \n",
    "\n",
    "    map_ch.save('Outputs/Restaurants_'+i)"
   ]
  },
  {
   "cell_type": "code",
   "execution_count": null,
   "metadata": {},
   "outputs": [],
   "source": []
  }
 ],
 "metadata": {
  "kernelspec": {
   "display_name": "Python [default]",
   "language": "python",
   "name": "python3"
  },
  "language_info": {
   "codemirror_mode": {
    "name": "ipython",
    "version": 3
   },
   "file_extension": ".py",
   "mimetype": "text/x-python",
   "name": "python",
   "nbconvert_exporter": "python",
   "pygments_lexer": "ipython3",
   "version": "3.6.5"
  }
 },
 "nbformat": 4,
 "nbformat_minor": 2
}
